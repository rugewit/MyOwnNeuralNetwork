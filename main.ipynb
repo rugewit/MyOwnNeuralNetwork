{
 "cells": [
  {
   "cell_type": "code",
   "execution_count": 1,
   "metadata": {},
   "outputs": [],
   "source": [
    "import numpy as np\n",
    "import matplotlib.pyplot as plt\n",
    "import math\n",
    "\n",
    "from abc import ABC, abstractmethod"
   ]
  },
  {
   "cell_type": "markdown",
   "metadata": {},
   "source": [
    "#### Задаем seed для numpy"
   ]
  },
  {
   "cell_type": "code",
   "execution_count": 2,
   "metadata": {},
   "outputs": [],
   "source": [
    "np.random.seed(0)"
   ]
  },
  {
   "cell_type": "markdown",
   "metadata": {},
   "source": [
    "#### Функции потерь (3 шт.)"
   ]
  },
  {
   "cell_type": "code",
   "execution_count": 3,
   "metadata": {},
   "outputs": [],
   "source": [
    "class LossFunction(ABC):\n",
    "    @abstractmethod\n",
    "    def calc_diff(self, result_tensor, target_tensor):\n",
    "        pass\n",
    "\n",
    "    @abstractmethod\n",
    "    def get_name(self) -> str:\n",
    "        pass\n",
    "\n",
    "\n",
    "class MAE(LossFunction):\n",
    "    def calc_diff(self, result_tensor, target_tensor):\n",
    "        return np.mean(np.abs(target_tensor - result_tensor))\n",
    "\n",
    "    def get_name(self) -> str:\n",
    "        return \"MAE\"\n",
    "\n",
    "\n",
    "class MSE(LossFunction):\n",
    "    def calc_diff(self, result_tensor, target_tensor):\n",
    "        return ((target_tensor - result_tensor)**2).mean()\n",
    "\n",
    "    def get_name(self) -> str:\n",
    "        return \"MSE\"\n",
    "    \n",
    "\n",
    "class CrossEntropyLoss(LossFunction):\n",
    "    def calc_diff(self, result_tensor, target_tensor):\n",
    "        epsilon = 1e-12\n",
    "        predictions = np.clip(result_tensor, epsilon, 1. - epsilon)\n",
    "        N = predictions.shape[0]\n",
    "        ce = -np.sum(target_tensor*np.log(predictions+1e-9))/N\n",
    "        return ce\n",
    "    \n",
    "    def get_name(self) -> str:\n",
    "        return \"CrossEntropyLoss\""
   ]
  },
  {
   "cell_type": "markdown",
   "metadata": {},
   "source": [
    "#### Оптимизаторы (4 шт.)"
   ]
  },
  {
   "cell_type": "code",
   "execution_count": 4,
   "metadata": {},
   "outputs": [],
   "source": [
    "class Optimizer:\n",
    "    def __init__(self, learning_rate):\n",
    "        self.lr = learning_rate\n",
    "\n",
    "\n",
    "class SGD(Optimizer):\n",
    "    def __init__(self, learning_rate):\n",
    "        super().__init__(learning_rate)\n",
    "\n",
    "\n",
    "class MomentumSGD(Optimizer):\n",
    "    def __init__(self, learning_rate, momentum_rate):\n",
    "        super().__init__(learning_rate)\n",
    "        self.momentum_rate = momentum_rate\n",
    "\n",
    "\n",
    "class ClippingSGD(Optimizer):\n",
    "    def __init__(self, learning_rate, clip_threshold):\n",
    "        super().__init__(learning_rate)\n",
    "        self.clip_threshold = clip_threshold\n",
    "\n",
    "\n",
    "class AdaptiveSGD(Optimizer):\n",
    "    def __init__(self, learning_rate, beta1, beta2, delta):\n",
    "        super().__init__(learning_rate)\n",
    "        self.beta1 = beta1\n",
    "        self.beta2 = beta2\n",
    "        self.delta = delta"
   ]
  },
  {
   "cell_type": "markdown",
   "metadata": {},
   "source": [
    "#### Абстрактный класс слоя"
   ]
  },
  {
   "cell_type": "code",
   "execution_count": 5,
   "metadata": {},
   "outputs": [],
   "source": [
    "class Layer(ABC):\n",
    "    @abstractmethod\n",
    "    def call(self, input_tensor):\n",
    "        pass\n",
    "\n",
    "    @abstractmethod\n",
    "    def back(self, x, optim: Optimizer):\n",
    "        pass"
   ]
  },
  {
   "cell_type": "markdown",
   "metadata": {},
   "source": [
    "#### Слой с тензорами (матрицами)"
   ]
  },
  {
   "cell_type": "code",
   "execution_count": 6,
   "metadata": {},
   "outputs": [],
   "source": [
    "class DenseLayer(Layer):\n",
    "    def __init__(self, input_nodes, out_nodes):\n",
    "        self.input_nodes = input_nodes\n",
    "        self.out_nodes = out_nodes\n",
    "        # тензор (матрица)\n",
    "        self.layer = np.random.normal(0.0, pow(self.input_nodes, -0.5), (self.out_nodes, self.input_nodes))\n",
    "        # храним тензоры для обратного распространения ошибок\n",
    "        self.prev_tensor = None\n",
    "        self.res_tensor = None\n",
    "        # for momentum\n",
    "        self.velocity = np.zeros_like(self.layer)\n",
    "        # for adaptive\n",
    "        self.m = np.zeros_like(self.layer)\n",
    "        self.v = np.zeros_like(self.layer)\n",
    "    \n",
    "    # вызываем при проходе по слоям\n",
    "    def call(self, input_tensor):\n",
    "        self.prev_tensor = input_tensor.copy()\n",
    "        return np.dot(self.layer, input_tensor)\n",
    "    \n",
    "    # для обратного распространения ошибок\n",
    "    def back(self, x, optim: Optimizer):\n",
    "        lr = optim.lr\n",
    "        gradient = np.dot((x * self.res_tensor * (1.0 - self.res_tensor)), np.transpose(self.prev_tensor))\n",
    "\n",
    "        if type(optim) is SGD:\n",
    "            self.layer += lr * gradient\n",
    "            return np.dot(self.layer.T, x)\n",
    "        elif type(optim) is MomentumSGD:\n",
    "            self.velocity = -optim.momentum_rate * self.velocity + lr * gradient\n",
    "            self.layer += self.velocity\n",
    "            return np.dot(self.layer.T, x)\n",
    "        elif type(optim) is ClippingSGD:\n",
    "            clipped_gradient = np.clip(gradient, -optim.clip_threshold, optim.clip_threshold)\n",
    "            self.layer += lr * clipped_gradient\n",
    "            return np.dot(self.layer.T, x)\n",
    "        elif type(optim) is AdaptiveSGD:\n",
    "            self.m = optim.beta1 * self.m + (1 - optim.beta1) * gradient\n",
    "            self.v = optim.beta2 * self.v + (1 - optim.beta2) * (gradient ** 2)\n",
    "            self.layer += -1 * (-lr * self.m / (np.sqrt(self.v) + optim.delta))\n",
    "            return np.dot(self.layer.T, x)\n",
    "        else:\n",
    "            raise Exception(\"Unknown optim\")"
   ]
  },
  {
   "cell_type": "markdown",
   "metadata": {},
   "source": [
    "#### Слои активации (5 шт.)"
   ]
  },
  {
   "cell_type": "code",
   "execution_count": 7,
   "metadata": {},
   "outputs": [],
   "source": [
    "class SigmoidLayer(Layer):\n",
    "    def call(self, x):\n",
    "        return 1 / (1 + np.exp(-x))\n",
    "    \n",
    "    def back(self, x, optim):\n",
    "        return x\n",
    "\n",
    "\n",
    "class TanhLayer(Layer):\n",
    "    def call(self, x):\n",
    "        return (np.exp(x) - np.exp(-x)) / (np.exp(x) + np.exp(-x))\n",
    "    \n",
    "    def back(self, x, optim):\n",
    "        return x\n",
    "\n",
    "\n",
    "class SoftPlusLayer(Layer):\n",
    "    def call(self, x):\n",
    "        return np.log1p(np.exp(-np.abs(x))) + np.maximum(x, 0)\n",
    "    \n",
    "    def back(self, x, optim):\n",
    "        return x\n",
    "    \n",
    "\n",
    "class ReluLayer(Layer):\n",
    "    def call(self, x):\n",
    "        return np.maximum(x, 0)\n",
    "    \n",
    "    def back(self, x, optim):\n",
    "        return x\n",
    "\n",
    "\n",
    "class SoftmaxLayer(Layer):\n",
    "    def call(self, x):\n",
    "        e_x = np.exp(x - np.max(x))\n",
    "        return e_x / np.sum(e_x, axis=0)\n",
    "\n",
    "    def back(self, x, optim):\n",
    "        return x"
   ]
  },
  {
   "cell_type": "markdown",
   "metadata": {},
   "source": [
    "#### Нейронная сеть"
   ]
  },
  {
   "cell_type": "code",
   "execution_count": 8,
   "metadata": {},
   "outputs": [],
   "source": [
    "class NeuralNetwork:\n",
    "    def __init__(self, layers):\n",
    "        self.layers = layers\n",
    "\n",
    "\n",
    "    # приватная функция для тренировки батча\n",
    "    def _train_batch(self, inputs_list, targets_list, batch_size, features_size, classes_size, \n",
    "                    optim: Optimizer):\n",
    "        inputs = np.array(inputs_list).reshape(batch_size, features_size).T\n",
    "        targets = np.array(targets_list).reshape(batch_size, classes_size).T\n",
    "\n",
    "        cur_tensor = inputs.copy()\n",
    "        # идём по слоям\n",
    "        for i in range(len(self.layers)):\n",
    "            layer = self.layers[i]\n",
    "            if isinstance(layer, (DenseLayer)):\n",
    "                cur_tensor = layer.call(cur_tensor)\n",
    "            elif isinstance(layer, (SigmoidLayer, TanhLayer, SoftPlusLayer, ReluLayer, SoftmaxLayer)):\n",
    "                cur_tensor = layer.call(cur_tensor)\n",
    "                # сохраням для обратного распространения ошибок\n",
    "                self.layers[i-1].res_tensor = cur_tensor.copy()\n",
    "            else:\n",
    "                raise Exception(f'Unknown class type: {type(layer)}')\n",
    "\n",
    "        # тензор до обратного распространения ошибок\n",
    "        actual_tensor = cur_tensor.copy()\n",
    "        output_error = targets - actual_tensor\n",
    "\n",
    "        cur_tensor = output_error.copy()\n",
    "        # запускаем обратное распространение ошибок\n",
    "        for layer in self.layers[::-1]:\n",
    "            cur_tensor = layer.back(cur_tensor, optim)\n",
    "        return (actual_tensor, targets)\n",
    "\n",
    "\n",
    "    # запустить тренировку \n",
    "    def start_train_batch(self, all_inputs, all_targets, batch_size, features_size, classes_size, \n",
    "                          optim: Optimizer, epochs, loss_func, plot=True):\n",
    "        # история по эпохам\n",
    "        errors_history = []\n",
    "\n",
    "        for _ in range(epochs):\n",
    "            # перемешиваем индексы\n",
    "            indices = np.random.permutation(len(all_inputs))\n",
    "\n",
    "            epoch_error = 0.0\n",
    "            for i in range(0, len(all_inputs), batch_size):\n",
    "                # формируем батчи\n",
    "                batch_indices = indices[i:i+batch_size]\n",
    "                batch_inputs_np = np.array([all_inputs[j] for j in batch_indices])\n",
    "                batch_targets_np = np.array([all_targets[j] for j in batch_indices])\n",
    "                result_tensor, target_tensor = self._train_batch(batch_inputs_np, batch_targets_np, batch_size, features_size, classes_size, optim)\n",
    "                # считаем loss\n",
    "                iter_error = loss_func.calc_diff(result_tensor, target_tensor)\n",
    "                epoch_error += iter_error\n",
    "            # делим loss на кол-во итераций\n",
    "            iterations = math.ceil(len(all_inputs) / batch_size)\n",
    "            errors_history.append(epoch_error / iterations)\n",
    "        \n",
    "        # отображаем график\n",
    "        if plot:\n",
    "            plt.figure(figsize=(10, 6))\n",
    "            plt.plot(list(range(1, epochs + 1)), errors_history)\n",
    "\n",
    "            plt.title('Training Error History, method: ' + loss_func.get_name())\n",
    "            plt.xlabel('Epoch')\n",
    "            plt.ylabel('Error')\n",
    "            plt.grid(True)\n",
    "            plt.show()\n",
    "            \n",
    "    # получить 1 предсказание нейросети\n",
    "    def query(self, inputs_list):\n",
    "        inputs = np.array(inputs_list, ndmin=2).T\n",
    "        \n",
    "        cur_tensor = inputs.copy()\n",
    "        # идем по слоям\n",
    "        for layer in self.layers:\n",
    "            cur_tensor = layer.call(cur_tensor)\n",
    "    \n",
    "        return cur_tensor\n",
    "\n",
    "    # провести тестирование\n",
    "    def start_test(self, input_test, target_test):\n",
    "        scorecard = []\n",
    "        for x, y in zip(input_test, target_test):\n",
    "            correct_label = y\n",
    "            outputs = self.query(x)\n",
    "            label = np.argmax(outputs)\n",
    "            if label == correct_label:\n",
    "                scorecard.append(1)\n",
    "            else:\n",
    "                scorecard.append(0)\n",
    "        scorecard_array = np.asarray(scorecard)\n",
    "        res = scorecard_array.sum() / scorecard_array.size\n",
    "        return res"
   ]
  },
  {
   "cell_type": "markdown",
   "metadata": {},
   "source": [
    "#### Пример с MNIST"
   ]
  },
  {
   "cell_type": "markdown",
   "metadata": {},
   "source": [
    "ссылка на датасет <br>\n",
    "http://www.pjreddie.com/media/files/mnist_train.csv <br>\n",
    "http://www.pjreddie.com/media/files/mnist_test.csv"
   ]
  },
  {
   "cell_type": "markdown",
   "metadata": {},
   "source": [
    "##### Начальные условия"
   ]
  },
  {
   "cell_type": "code",
   "execution_count": 9,
   "metadata": {},
   "outputs": [],
   "source": [
    "features_size = 28 * 28\n",
    "classes_size = 10\n",
    "learning_rate = 0.1\n",
    "\n",
    "layers = [DenseLayer(features_size, 200), SigmoidLayer(), DenseLayer(200, classes_size), SigmoidLayer()]\n",
    "n = NeuralNetwork(layers)\n",
    "optim = SGD(learning_rate)\n",
    "\n",
    "# другие возможные параметры\n",
    "\n",
    "#optim = MomentumSGD(0.1, 0.1)\n",
    "#optim = ClippingSGD(learning_rate, 1.0)\n",
    "#optim = AdaptiveSGD(learning_rate, 0.001, 0.001111, 0.9)"
   ]
  },
  {
   "cell_type": "code",
   "execution_count": 10,
   "metadata": {},
   "outputs": [],
   "source": [
    "loss_func = MAE()\n",
    "\n",
    "# другие возможные параметры\n",
    "\n",
    "#loss_func = MSE()\n",
    "#loss_func = CrossEntropyLoss()"
   ]
  },
  {
   "cell_type": "markdown",
   "metadata": {},
   "source": [
    "#### Загрузка датасета"
   ]
  },
  {
   "cell_type": "code",
   "execution_count": 11,
   "metadata": {},
   "outputs": [],
   "source": [
    "training_data_file = open(\"datasets/mnist_train.csv\", 'r')\n",
    "training_data_list = training_data_file.readlines()\n",
    "training_data_file.close()"
   ]
  },
  {
   "cell_type": "code",
   "execution_count": 12,
   "metadata": {},
   "outputs": [],
   "source": [
    "all_inputs = []\n",
    "all_targets = []\n",
    "\n",
    "for record in training_data_list:\n",
    "    all_values = record.split(',')\n",
    "    inputs = (np.asfarray(all_values[1:]) / 255.0 * 0.99) + 0.01\n",
    "    targets = np.zeros(classes_size) + 0.01\n",
    "    targets[int(all_values[0])] = 0.99\n",
    "    all_inputs.append(inputs)\n",
    "    all_targets.append(targets)"
   ]
  },
  {
   "cell_type": "markdown",
   "metadata": {},
   "source": [
    "#### Тренировка нейросети"
   ]
  },
  {
   "cell_type": "code",
   "execution_count": 13,
   "metadata": {},
   "outputs": [
    {
     "data": {
      "image/png": "[encoded data removed]",
      "text/plain": [
       "<Figure size 1000x600 with 1 Axes>"
      ]
     },
     "metadata": {},
     "output_type": "display_data"
    }
   ],
   "source": [
    "epochs = 10\n",
    "batch_size = 16\n",
    "\n",
    "n.start_train_batch(all_inputs, all_targets, batch_size, features_size, classes_size, optim,\n",
    "                    epochs, loss_func)"
   ]
  },
  {
   "cell_type": "markdown",
   "metadata": {},
   "source": [
    "#### Загрузка тестовой части датасета"
   ]
  },
  {
   "cell_type": "code",
   "execution_count": 14,
   "metadata": {},
   "outputs": [],
   "source": [
    "test_data_file = open(\"datasets/mnist_test.csv\", 'r')\n",
    "test_data_list = test_data_file.readlines()\n",
    "test_data_file.close()"
   ]
  },
  {
   "cell_type": "code",
   "execution_count": 15,
   "metadata": {},
   "outputs": [],
   "source": [
    "input_test = []\n",
    "target_test = []\n",
    "\n",
    "for record in test_data_list:\n",
    "    all_values = record.split(',')\n",
    "    correct_label = int(all_values[0])\n",
    "    inputs = (np.asfarray(all_values[1:]) / 255.0 * 0.99) + 0.01\n",
    "    input_test.append(inputs)\n",
    "    target_test.append(correct_label)\n",
    "\n",
    "input_test = np.array(input_test)\n",
    "target_test = np.array(target_test)"
   ]
  },
  {
   "cell_type": "markdown",
   "metadata": {},
   "source": [
    "#### Тест и итоговый результат"
   ]
  },
  {
   "cell_type": "code",
   "execution_count": 16,
   "metadata": {},
   "outputs": [
    {
     "name": "stdout",
     "output_type": "stream",
     "text": [
      "accuracy = 0.9736\n"
     ]
    }
   ],
   "source": [
    "res = n.start_test(input_test, target_test)\n",
    "print(f'accuracy = {res}')"
   ]
  },
  {
   "cell_type": "markdown",
   "metadata": {},
   "source": [
    "#### Пример с IRIS"
   ]
  },
  {
   "cell_type": "code",
   "execution_count": 17,
   "metadata": {},
   "outputs": [],
   "source": [
    "from sklearn import datasets\n",
    "from sklearn.model_selection import train_test_split\n",
    "\n",
    "iris = datasets.load_iris()\n",
    "\n",
    "X_train, X_test, _y_train, y_test = train_test_split(iris['data'], iris['target'], test_size=0.33, random_state=42)"
   ]
  },
  {
   "cell_type": "code",
   "execution_count": 18,
   "metadata": {},
   "outputs": [],
   "source": [
    "features_size = 4\n",
    "classes_size = 3\n",
    "\n",
    "learning_rate = 0.1\n",
    "\n",
    "layers = [DenseLayer(features_size, 30), SigmoidLayer(), DenseLayer(30, classes_size), SigmoidLayer()]\n",
    "n = NeuralNetwork(layers)\n",
    "optim = SGD(learning_rate)\n",
    "loss_func = MSE()"
   ]
  },
  {
   "cell_type": "code",
   "execution_count": 19,
   "metadata": {},
   "outputs": [],
   "source": [
    "y_train = []\n",
    "\n",
    "# устанавливаем вероятности для классов\n",
    "for target in _y_train:\n",
    "    targets = np.zeros(classes_size) + 0.01\n",
    "    targets[target] = 0.99\n",
    "    y_train.append(targets)\n",
    "\n",
    "y_train = np.array(y_train)"
   ]
  },
  {
   "cell_type": "markdown",
   "metadata": {},
   "source": [
    "#### Обучение"
   ]
  },
  {
   "cell_type": "code",
   "execution_count": 20,
   "metadata": {},
   "outputs": [
    {
     "data": {
      "image/png": "[encoded data removed]",
      "text/plain": [
       "<Figure size 1000x600 with 1 Axes>"
      ]
     },
     "metadata": {},
     "output_type": "display_data"
    }
   ],
   "source": [
    "epochs = 15\n",
    "batch_size = 4\n",
    "\n",
    "n.start_train_batch(X_train, y_train, batch_size, features_size, classes_size, optim,\n",
    "                    epochs, loss_func)"
   ]
  },
  {
   "cell_type": "markdown",
   "metadata": {},
   "source": [
    "#### Тест и итоговый результат"
   ]
  },
  {
   "cell_type": "code",
   "execution_count": 21,
   "metadata": {},
   "outputs": [
    {
     "name": "stdout",
     "output_type": "stream",
     "text": [
      "accuracy = 0.8\n"
     ]
    }
   ],
   "source": [
    "res = n.start_test(X_test, y_test)\n",
    "print (f\"accuracy = {res}\")"
   ]
  },
  {
   "cell_type": "markdown",
   "metadata": {},
   "source": [
    "#### Пример с Mushroom"
   ]
  },
  {
   "cell_type": "markdown",
   "metadata": {},
   "source": [
    "ссылка на датасет <br>\n",
    "https://www.kaggle.com/datasets/uciml/mushroom-classification"
   ]
  },
  {
   "cell_type": "code",
   "execution_count": 22,
   "metadata": {},
   "outputs": [],
   "source": [
    "import pandas as pd\n",
    "\n",
    "data = pd.read_csv(\"datasets/mushrooms.csv\")"
   ]
  },
  {
   "cell_type": "code",
   "execution_count": 23,
   "metadata": {},
   "outputs": [
    {
     "data": {
      "text/html": [
       "<div>\n",
       "<style scoped>\n",
       "    .dataframe tbody tr th:only-of-type {\n",
       "        vertical-align: middle;\n",
       "    }\n",
       "\n",
       "    .dataframe tbody tr th {\n",
       "        vertical-align: top;\n",
       "    }\n",
       "\n",
       "    .dataframe thead th {\n",
       "        text-align: right;\n",
       "    }\n",
       "</style>\n",
       "<table border=\"1\" class=\"dataframe\">\n",
       "  <thead>\n",
       "    <tr style=\"text-align: right;\">\n",
       "      <th></th>\n",
       "      <th>class</th>\n",
       "      <th>cap-shape</th>\n",
       "      <th>cap-surface</th>\n",
       "      <th>cap-color</th>\n",
       "      <th>bruises</th>\n",
       "      <th>odor</th>\n",
       "      <th>gill-attachment</th>\n",
       "      <th>gill-spacing</th>\n",
       "      <th>gill-size</th>\n",
       "      <th>gill-color</th>\n",
       "      <th>...</th>\n",
       "      <th>stalk-surface-below-ring</th>\n",
       "      <th>stalk-color-above-ring</th>\n",
       "      <th>stalk-color-below-ring</th>\n",
       "      <th>veil-type</th>\n",
       "      <th>veil-color</th>\n",
       "      <th>ring-number</th>\n",
       "      <th>ring-type</th>\n",
       "      <th>spore-print-color</th>\n",
       "      <th>population</th>\n",
       "      <th>habitat</th>\n",
       "    </tr>\n",
       "  </thead>\n",
       "  <tbody>\n",
       "    <tr>\n",
       "      <th>0</th>\n",
       "      <td>p</td>\n",
       "      <td>x</td>\n",
       "      <td>s</td>\n",
       "      <td>n</td>\n",
       "      <td>t</td>\n",
       "      <td>p</td>\n",
       "      <td>f</td>\n",
       "      <td>c</td>\n",
       "      <td>n</td>\n",
       "      <td>k</td>\n",
       "      <td>...</td>\n",
       "      <td>s</td>\n",
       "      <td>w</td>\n",
       "      <td>w</td>\n",
       "      <td>p</td>\n",
       "      <td>w</td>\n",
       "      <td>o</td>\n",
       "      <td>p</td>\n",
       "      <td>k</td>\n",
       "      <td>s</td>\n",
       "      <td>u</td>\n",
       "    </tr>\n",
       "    <tr>\n",
       "      <th>1</th>\n",
       "      <td>e</td>\n",
       "      <td>x</td>\n",
       "      <td>s</td>\n",
       "      <td>y</td>\n",
       "      <td>t</td>\n",
       "      <td>a</td>\n",
       "      <td>f</td>\n",
       "      <td>c</td>\n",
       "      <td>b</td>\n",
       "      <td>k</td>\n",
       "      <td>...</td>\n",
       "      <td>s</td>\n",
       "      <td>w</td>\n",
       "      <td>w</td>\n",
       "      <td>p</td>\n",
       "      <td>w</td>\n",
       "      <td>o</td>\n",
       "      <td>p</td>\n",
       "      <td>n</td>\n",
       "      <td>n</td>\n",
       "      <td>g</td>\n",
       "    </tr>\n",
       "    <tr>\n",
       "      <th>2</th>\n",
       "      <td>e</td>\n",
       "      <td>b</td>\n",
       "      <td>s</td>\n",
       "      <td>w</td>\n",
       "      <td>t</td>\n",
       "      <td>l</td>\n",
       "      <td>f</td>\n",
       "      <td>c</td>\n",
       "      <td>b</td>\n",
       "      <td>n</td>\n",
       "      <td>...</td>\n",
       "      <td>s</td>\n",
       "      <td>w</td>\n",
       "      <td>w</td>\n",
       "      <td>p</td>\n",
       "      <td>w</td>\n",
       "      <td>o</td>\n",
       "      <td>p</td>\n",
       "      <td>n</td>\n",
       "      <td>n</td>\n",
       "      <td>m</td>\n",
       "    </tr>\n",
       "    <tr>\n",
       "      <th>3</th>\n",
       "      <td>p</td>\n",
       "      <td>x</td>\n",
       "      <td>y</td>\n",
       "      <td>w</td>\n",
       "      <td>t</td>\n",
       "      <td>p</td>\n",
       "      <td>f</td>\n",
       "      <td>c</td>\n",
       "      <td>n</td>\n",
       "      <td>n</td>\n",
       "      <td>...</td>\n",
       "      <td>s</td>\n",
       "      <td>w</td>\n",
       "      <td>w</td>\n",
       "      <td>p</td>\n",
       "      <td>w</td>\n",
       "      <td>o</td>\n",
       "      <td>p</td>\n",
       "      <td>k</td>\n",
       "      <td>s</td>\n",
       "      <td>u</td>\n",
       "    </tr>\n",
       "    <tr>\n",
       "      <th>4</th>\n",
       "      <td>e</td>\n",
       "      <td>x</td>\n",
       "      <td>s</td>\n",
       "      <td>g</td>\n",
       "      <td>f</td>\n",
       "      <td>n</td>\n",
       "      <td>f</td>\n",
       "      <td>w</td>\n",
       "      <td>b</td>\n",
       "      <td>k</td>\n",
       "      <td>...</td>\n",
       "      <td>s</td>\n",
       "      <td>w</td>\n",
       "      <td>w</td>\n",
       "      <td>p</td>\n",
       "      <td>w</td>\n",
       "      <td>o</td>\n",
       "      <td>e</td>\n",
       "      <td>n</td>\n",
       "      <td>a</td>\n",
       "      <td>g</td>\n",
       "    </tr>\n",
       "  </tbody>\n",
       "</table>\n",
       "<p>5 rows × 23 columns</p>\n",
       "</div>"
      ],
      "text/plain": [
       "  class cap-shape cap-surface cap-color bruises odor gill-attachment  \\\n",
       "0     p         x           s         n       t    p               f   \n",
       "1     e         x           s         y       t    a               f   \n",
       "2     e         b           s         w       t    l               f   \n",
       "3     p         x           y         w       t    p               f   \n",
       "4     e         x           s         g       f    n               f   \n",
       "\n",
       "  gill-spacing gill-size gill-color  ... stalk-surface-below-ring  \\\n",
       "0            c         n          k  ...                        s   \n",
       "1            c         b          k  ...                        s   \n",
       "2            c         b          n  ...                        s   \n",
       "3            c         n          n  ...                        s   \n",
       "4            w         b          k  ...                        s   \n",
       "\n",
       "  stalk-color-above-ring stalk-color-below-ring veil-type veil-color  \\\n",
       "0                      w                      w         p          w   \n",
       "1                      w                      w         p          w   \n",
       "2                      w                      w         p          w   \n",
       "3                      w                      w         p          w   \n",
       "4                      w                      w         p          w   \n",
       "\n",
       "  ring-number ring-type spore-print-color population habitat  \n",
       "0           o         p                 k          s       u  \n",
       "1           o         p                 n          n       g  \n",
       "2           o         p                 n          n       m  \n",
       "3           o         p                 k          s       u  \n",
       "4           o         e                 n          a       g  \n",
       "\n",
       "[5 rows x 23 columns]"
      ]
     },
     "execution_count": 23,
     "metadata": {},
     "output_type": "execute_result"
    }
   ],
   "source": [
    "data.head()"
   ]
  },
  {
   "cell_type": "markdown",
   "metadata": {},
   "source": [
    "#### Преобразование датасета"
   ]
  },
  {
   "cell_type": "code",
   "execution_count": 24,
   "metadata": {},
   "outputs": [],
   "source": [
    "# меняем class values на \"1\" и \"0\"\n",
    "data[\"class\"] = [1 if i == \"p\" else 0 for i in data[\"class\"]]\n",
    "\n",
    "# убираем \"veil-type\" column\n",
    "data.drop(\"veil-type\",axis=1,inplace=True)"
   ]
  },
  {
   "cell_type": "code",
   "execution_count": 25,
   "metadata": {},
   "outputs": [],
   "source": [
    "for column in data.drop([\"class\"], axis=1).columns:\n",
    "    normalized_value = 0\n",
    "    \n",
    "    # вычисление шага\n",
    "    step_size = 1 / (len(data[column].unique()) - 1)\n",
    "    \n",
    "    for unique_value in data[column].unique():\n",
    "        data[column] = [normalized_value if val == unique_value else val for val in data[column]]\n",
    "        \n",
    "        normalized_value += step_size"
   ]
  },
  {
   "cell_type": "code",
   "execution_count": 26,
   "metadata": {},
   "outputs": [
    {
     "data": {
      "text/html": [
       "<div>\n",
       "<style scoped>\n",
       "    .dataframe tbody tr th:only-of-type {\n",
       "        vertical-align: middle;\n",
       "    }\n",
       "\n",
       "    .dataframe tbody tr th {\n",
       "        vertical-align: top;\n",
       "    }\n",
       "\n",
       "    .dataframe thead th {\n",
       "        text-align: right;\n",
       "    }\n",
       "</style>\n",
       "<table border=\"1\" class=\"dataframe\">\n",
       "  <thead>\n",
       "    <tr style=\"text-align: right;\">\n",
       "      <th></th>\n",
       "      <th>class</th>\n",
       "      <th>cap-shape</th>\n",
       "      <th>cap-surface</th>\n",
       "      <th>cap-color</th>\n",
       "      <th>bruises</th>\n",
       "      <th>odor</th>\n",
       "      <th>gill-attachment</th>\n",
       "      <th>gill-spacing</th>\n",
       "      <th>gill-size</th>\n",
       "      <th>gill-color</th>\n",
       "      <th>...</th>\n",
       "      <th>stalk-surface-above-ring</th>\n",
       "      <th>stalk-surface-below-ring</th>\n",
       "      <th>stalk-color-above-ring</th>\n",
       "      <th>stalk-color-below-ring</th>\n",
       "      <th>veil-color</th>\n",
       "      <th>ring-number</th>\n",
       "      <th>ring-type</th>\n",
       "      <th>spore-print-color</th>\n",
       "      <th>population</th>\n",
       "      <th>habitat</th>\n",
       "    </tr>\n",
       "  </thead>\n",
       "  <tbody>\n",
       "    <tr>\n",
       "      <th>0</th>\n",
       "      <td>1</td>\n",
       "      <td>0.0</td>\n",
       "      <td>0.000000</td>\n",
       "      <td>0.000000</td>\n",
       "      <td>0.0</td>\n",
       "      <td>0.000</td>\n",
       "      <td>0.0</td>\n",
       "      <td>0.0</td>\n",
       "      <td>0.0</td>\n",
       "      <td>0.000000</td>\n",
       "      <td>...</td>\n",
       "      <td>0.0</td>\n",
       "      <td>0.0</td>\n",
       "      <td>0.0</td>\n",
       "      <td>0.0</td>\n",
       "      <td>0.0</td>\n",
       "      <td>0.0</td>\n",
       "      <td>0.00</td>\n",
       "      <td>0.000</td>\n",
       "      <td>0.0</td>\n",
       "      <td>0.000000</td>\n",
       "    </tr>\n",
       "    <tr>\n",
       "      <th>1</th>\n",
       "      <td>0</td>\n",
       "      <td>0.0</td>\n",
       "      <td>0.000000</td>\n",
       "      <td>0.111111</td>\n",
       "      <td>0.0</td>\n",
       "      <td>0.125</td>\n",
       "      <td>0.0</td>\n",
       "      <td>0.0</td>\n",
       "      <td>1.0</td>\n",
       "      <td>0.000000</td>\n",
       "      <td>...</td>\n",
       "      <td>0.0</td>\n",
       "      <td>0.0</td>\n",
       "      <td>0.0</td>\n",
       "      <td>0.0</td>\n",
       "      <td>0.0</td>\n",
       "      <td>0.0</td>\n",
       "      <td>0.00</td>\n",
       "      <td>0.125</td>\n",
       "      <td>0.2</td>\n",
       "      <td>0.166667</td>\n",
       "    </tr>\n",
       "    <tr>\n",
       "      <th>2</th>\n",
       "      <td>0</td>\n",
       "      <td>0.2</td>\n",
       "      <td>0.000000</td>\n",
       "      <td>0.222222</td>\n",
       "      <td>0.0</td>\n",
       "      <td>0.250</td>\n",
       "      <td>0.0</td>\n",
       "      <td>0.0</td>\n",
       "      <td>1.0</td>\n",
       "      <td>0.090909</td>\n",
       "      <td>...</td>\n",
       "      <td>0.0</td>\n",
       "      <td>0.0</td>\n",
       "      <td>0.0</td>\n",
       "      <td>0.0</td>\n",
       "      <td>0.0</td>\n",
       "      <td>0.0</td>\n",
       "      <td>0.00</td>\n",
       "      <td>0.125</td>\n",
       "      <td>0.2</td>\n",
       "      <td>0.333333</td>\n",
       "    </tr>\n",
       "    <tr>\n",
       "      <th>3</th>\n",
       "      <td>1</td>\n",
       "      <td>0.0</td>\n",
       "      <td>0.333333</td>\n",
       "      <td>0.222222</td>\n",
       "      <td>0.0</td>\n",
       "      <td>0.000</td>\n",
       "      <td>0.0</td>\n",
       "      <td>0.0</td>\n",
       "      <td>0.0</td>\n",
       "      <td>0.090909</td>\n",
       "      <td>...</td>\n",
       "      <td>0.0</td>\n",
       "      <td>0.0</td>\n",
       "      <td>0.0</td>\n",
       "      <td>0.0</td>\n",
       "      <td>0.0</td>\n",
       "      <td>0.0</td>\n",
       "      <td>0.00</td>\n",
       "      <td>0.000</td>\n",
       "      <td>0.0</td>\n",
       "      <td>0.000000</td>\n",
       "    </tr>\n",
       "    <tr>\n",
       "      <th>4</th>\n",
       "      <td>0</td>\n",
       "      <td>0.0</td>\n",
       "      <td>0.000000</td>\n",
       "      <td>0.333333</td>\n",
       "      <td>1.0</td>\n",
       "      <td>0.375</td>\n",
       "      <td>0.0</td>\n",
       "      <td>1.0</td>\n",
       "      <td>1.0</td>\n",
       "      <td>0.000000</td>\n",
       "      <td>...</td>\n",
       "      <td>0.0</td>\n",
       "      <td>0.0</td>\n",
       "      <td>0.0</td>\n",
       "      <td>0.0</td>\n",
       "      <td>0.0</td>\n",
       "      <td>0.0</td>\n",
       "      <td>0.25</td>\n",
       "      <td>0.125</td>\n",
       "      <td>0.4</td>\n",
       "      <td>0.166667</td>\n",
       "    </tr>\n",
       "  </tbody>\n",
       "</table>\n",
       "<p>5 rows × 22 columns</p>\n",
       "</div>"
      ],
      "text/plain": [
       "   class  cap-shape  cap-surface  cap-color  bruises   odor  gill-attachment  \\\n",
       "0      1        0.0     0.000000   0.000000      0.0  0.000              0.0   \n",
       "1      0        0.0     0.000000   0.111111      0.0  0.125              0.0   \n",
       "2      0        0.2     0.000000   0.222222      0.0  0.250              0.0   \n",
       "3      1        0.0     0.333333   0.222222      0.0  0.000              0.0   \n",
       "4      0        0.0     0.000000   0.333333      1.0  0.375              0.0   \n",
       "\n",
       "   gill-spacing  gill-size  gill-color  ...  stalk-surface-above-ring  \\\n",
       "0           0.0        0.0    0.000000  ...                       0.0   \n",
       "1           0.0        1.0    0.000000  ...                       0.0   \n",
       "2           0.0        1.0    0.090909  ...                       0.0   \n",
       "3           0.0        0.0    0.090909  ...                       0.0   \n",
       "4           1.0        1.0    0.000000  ...                       0.0   \n",
       "\n",
       "   stalk-surface-below-ring  stalk-color-above-ring  stalk-color-below-ring  \\\n",
       "0                       0.0                     0.0                     0.0   \n",
       "1                       0.0                     0.0                     0.0   \n",
       "2                       0.0                     0.0                     0.0   \n",
       "3                       0.0                     0.0                     0.0   \n",
       "4                       0.0                     0.0                     0.0   \n",
       "\n",
       "   veil-color  ring-number  ring-type  spore-print-color  population   habitat  \n",
       "0         0.0          0.0       0.00              0.000         0.0  0.000000  \n",
       "1         0.0          0.0       0.00              0.125         0.2  0.166667  \n",
       "2         0.0          0.0       0.00              0.125         0.2  0.333333  \n",
       "3         0.0          0.0       0.00              0.000         0.0  0.000000  \n",
       "4         0.0          0.0       0.25              0.125         0.4  0.166667  \n",
       "\n",
       "[5 rows x 22 columns]"
      ]
     },
     "execution_count": 26,
     "metadata": {},
     "output_type": "execute_result"
    }
   ],
   "source": [
    "data.head()"
   ]
  },
  {
   "cell_type": "code",
   "execution_count": 27,
   "metadata": {},
   "outputs": [],
   "source": [
    "data = data.iloc[:-3]"
   ]
  },
  {
   "cell_type": "code",
   "execution_count": 28,
   "metadata": {},
   "outputs": [],
   "source": [
    "x = data.drop([\"class\"], axis=1).values\n",
    "y = data[\"class\"].values    \n",
    "X_train, X_test, _y_train, y_test = train_test_split(x,y,test_size=0.2,random_state=42)"
   ]
  },
  {
   "cell_type": "markdown",
   "metadata": {},
   "source": [
    "#### Начальные условия"
   ]
  },
  {
   "cell_type": "code",
   "execution_count": 29,
   "metadata": {},
   "outputs": [],
   "source": [
    "features_size = 21\n",
    "classes_size = 2\n",
    "\n",
    "learning_rate = 0.1\n",
    "\n",
    "layers = [DenseLayer(features_size, 200), SoftmaxLayer(), DenseLayer(200, classes_size), SigmoidLayer()]\n",
    "n = NeuralNetwork(layers)\n",
    "optim = MomentumSGD(learning_rate, 0.1)\n",
    "loss_func = CrossEntropyLoss()"
   ]
  },
  {
   "cell_type": "code",
   "execution_count": 30,
   "metadata": {},
   "outputs": [],
   "source": [
    "y_train = []\n",
    "\n",
    "# устанавливаем вероятности для классов\n",
    "for target in _y_train:\n",
    "    targets = np.zeros(classes_size) + 0.01\n",
    "    targets[target] = 0.99\n",
    "    y_train.append(targets)\n",
    "\n",
    "y_train = np.array(y_train)"
   ]
  },
  {
   "cell_type": "markdown",
   "metadata": {},
   "source": [
    "#### Обучение"
   ]
  },
  {
   "cell_type": "code",
   "execution_count": 31,
   "metadata": {},
   "outputs": [
    {
     "data": {
      "image/png": "[encoded data removed]",
      "text/plain": [
       "<Figure size 1000x600 with 1 Axes>"
      ]
     },
     "metadata": {},
     "output_type": "display_data"
    }
   ],
   "source": [
    "epochs = 15\n",
    "batch_size = 16\n",
    "\n",
    "n.start_train_batch(X_train, y_train, batch_size, features_size, classes_size, optim,\n",
    "                    epochs, loss_func)"
   ]
  },
  {
   "cell_type": "markdown",
   "metadata": {},
   "source": [
    "#### Тест и итоговый результат"
   ]
  },
  {
   "cell_type": "code",
   "execution_count": 32,
   "metadata": {},
   "outputs": [
    {
     "name": "stdout",
     "output_type": "stream",
     "text": [
      "accuracy = 0.9778461538461538\n"
     ]
    }
   ],
   "source": [
    "res = n.start_test(X_test, y_test)\n",
    "print (f\"accuracy = {res}\")"
   ]
  }
 ],
 "metadata": {
  "kernelspec": {
   "display_name": "tfpt",
   "language": "python",
   "name": "python3"
  },
  "language_info": {
   "codemirror_mode": {
    "name": "ipython",
    "version": 3
   },
   "file_extension": ".py",
   "mimetype": "text/x-python",
   "name": "python",
   "nbconvert_exporter": "python",
   "pygments_lexer": "ipython3",
   "version": "3.10.11"
  }
 },
 "nbformat": 4,
 "nbformat_minor": 2
}
